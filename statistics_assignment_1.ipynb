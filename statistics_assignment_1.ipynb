{
  "nbformat": 4,
  "nbformat_minor": 0,
  "metadata": {
    "colab": {
      "provenance": []
    },
    "kernelspec": {
      "name": "python3",
      "display_name": "Python 3"
    },
    "language_info": {
      "name": "python"
    }
  },
  "cells": [
    {
      "cell_type": "markdown",
      "source": [
        "Question 1: What is the difference between descriptive statistics and inferential statistics? Explain with examples.\n",
        "\n",
        "- Descriptive Statistics :\n",
        "  - purpose: To organize, summarize, and present data in an understandable way.\n",
        "\n",
        "   - Methods: Involves using charts, graphs, and numerical       summaries such as:\n",
        "     > Measures of Central Tendency: Mean, median, and mode.\n",
        "\n",
        "     > Measures of Dispersion: Variance, range, and standard deviation.\n",
        "\n",
        "- Example: A company conducts a survey of 100 employees and finds the average age of the employees is 35 years. This is descriptive statistics because it describes the characteristics of the specific group of 100 surveyed employees.\n",
        "\n",
        "- Inferential Statistics :\n",
        "  - Purpose: To make inferences, predictions, or conclusions about a whole population based on a sample of data.\n",
        "\n",
        "  - Methods: Utilizes probability and hypothesis testing to draw broader conclusions and quantify the reliability of those conclusions. Examples include:\n",
        "     > Hypothesis tests\n",
        "\n",
        "     > Confidence intervals\n",
        "\n",
        "    >  Regression analysis\n",
        "- Example: To understand whether a new drug is effective for the entire population, researchers test it on a small, random sample of patients. They then use inferential statistics to make a conclusion about the drug's efficacy for all patients with the condition, with a certain level of confidence.\n",
        "\n",
        "Question 2: What is sampling in statistics? Explain the differences between random and stratified sampling\n",
        "\n",
        "- In statistics, sampling is the process of selecting a subset of individuals or data points from a larger population to make inferences about that population.\n",
        "\n",
        "  - Simple Random Sampling :\n",
        "\n",
        "       - Process: Every member of the population has an equal and independent chance of being selected for the sample. There is no deliberate selection of specific groups.\n",
        "     \n",
        "       - Example: Imagine a lottery where every person in a town has a ticket, and winning tickets are drawn randomly to represent the entire town.\n",
        "\n",
        "  - Stratified Sampling :\n",
        "     \n",
        "     - Process: The population is first divided into mutually exclusive subgroups, called strata, based on shared characteristics like age, gender, or income. Then, random samples are taken from each of these strata.\n",
        "     \n",
        "     - Example: To survey customer satisfaction, a company might divide its customer base into \"new customers,\" \"repeat customers,\" and \"loyal customers\" (the strata). Then, they'd randomly select some customers from each group to include in their survey.\n",
        "\n",
        "Question 3: Define mean, median, and mode. Explain why these measures of central tendency are important.\n",
        "\n",
        "- Mean : The mean, or arithmetic average, is calculated by summing all the values in a dataset and dividing by the total number of values.\n",
        "\n",
        "   - Formula: mean = sum of all values / No. of values\n",
        "\n",
        "- Median :\n",
        "The median is the middle value of a dataset when arranged in order. For an even number of values, it's the average of the two middle values. The median is less affected by outliers, making it useful for skewed datasets.\n",
        "\n",
        "- Mode :\n",
        "The mode is the value that appears most frequently in a dataset. It can be used with both numerical and categorical data. A dataset can have one, two, multiple, or no mode.\n",
        "\n",
        "- IMPORTANCE\n",
        "\n",
        "  - These measures provide a concise summary of datasets and aid decision-making. They offer different insights into the data's central location, especially when considering outliers and distribution. Businesses and researchers use them to understand typical values, identify patterns, and compare datasets, which informs planning and strategy.\n",
        "\n",
        "Question 4: Explain skewness and kurtosis. What does a positive skew imply about the data?\n",
        "\n",
        "- Skewness :\n",
        "\n",
        "  - Definition: Skewness describes the lack of symmetry in a distribution, showing if the data points are more concentrated on one side of the mean.\n",
        "  - Types:\n",
        "\n",
        "     -> Positive Skew: The right tail of the distribution is longer or fatter than the left tail.\n",
        "\n",
        "     ->  Negative Skew: The left tail of the distribution is longer or fatter than the right tail.\n",
        "\n",
        "     ->Zero Skewness: The distribution is perfectly symmetrical, with the left and right sides as mirror images of each other.\n",
        "\n",
        "- Kurtosis :\n",
        "\n",
        "    ->Definition: Kurtosis measures the \"tailedness\" and peakedness of a distribution, indicating the presence and weight of extreme values (outliers).\n",
        "\n",
        "    ->Types:\n",
        "\n",
        "      - Leptokurtic: A more peaked distribution with heavier tails, indicating more outliers.\n",
        "\n",
        "      - Platykurtic: A flatter distribution with lighter tails, indicating fewer outliers.\n",
        "\n",
        "      - Mesokurtic: A distribution with a peak and tails similar to a normal distribution.\n",
        "\n",
        "- What a Positive Skew Implies\n",
        "\n",
        "   - Longer Right Tail: Data points are more spread out on the right side of the distribution.\n",
        "   - Higher Mean: The mean of the data is greater than the median and the mode.\n",
        "   - Concentrated Lower Values: There is a larger concentration of data points with lower values on the left side of the distribution.\n",
        "\n",
        "\n"
      ],
      "metadata": {
        "id": "0ymsN2DXq0Nx"
      }
    },
    {
      "cell_type": "code",
      "execution_count": 1,
      "metadata": {
        "colab": {
          "base_uri": "https://localhost:8080/"
        },
        "id": "q8FJz7JsqtE8",
        "outputId": "8253c0a0-ebae-4599-edb1-6d0a8d1df772"
      },
      "outputs": [
        {
          "output_type": "stream",
          "name": "stdout",
          "text": [
            "Given list of numbers: [12, 15, 12, 18, 19, 12, 20, 22, 19, 19, 24, 24, 24, 26, 28]\n",
            "Mean: 19.6\n",
            "Median: 19\n",
            "Mode: [12, 19, 24]\n"
          ]
        }
      ],
      "source": [
        "# Question 5 : Implement a Python program to compute the mean, median, and mode of a given list of numbers. numbers = [12, 15, 12, 18, 19, 12, 20, 22, 19, 19, 24, 24, 24, 26, 28]\n",
        "from collections import Counter\n",
        "\n",
        "def calculate_mean_median_mode(numbers):\n",
        "\n",
        "    # Calculate Mean\n",
        "    mean = sum(numbers) / len(numbers)\n",
        "\n",
        "    # Calculate Median\n",
        "    sorted_numbers = sorted(numbers)\n",
        "    n = len(sorted_numbers)\n",
        "    if n % 2 == 0:\n",
        "        # Even number of elements, median is the average of the two middle elements\n",
        "        median = (sorted_numbers[n // 2 - 1] + sorted_numbers[n // 2]) / 2\n",
        "    else:\n",
        "        # Odd number of elements, median is the middle element\n",
        "        median = sorted_numbers[n // 2]\n",
        "\n",
        "    # Calculate Mode\n",
        "    counts = Counter(numbers)\n",
        "    max_count = max(counts.values())\n",
        "    mode = [key for key, value in counts.items() if value == max_count]\n",
        "\n",
        "    return mean, median, mode\n",
        "\n",
        "numbers = [12, 15, 12, 18, 19, 12, 20, 22, 19, 19, 24, 24, 24, 26, 28]\n",
        "\n",
        "mean_val, median_val, mode_val = calculate_mean_median_mode(numbers)\n",
        "\n",
        "print(f\"Given list of numbers: {numbers}\")\n",
        "print(f\"Mean: {mean_val}\")\n",
        "print(f\"Median: {median_val}\")\n",
        "print(f\"Mode: {mode_val}\")"
      ]
    },
    {
      "cell_type": "code",
      "source": [
        "#Question 6: Compute the covariance and correlation coefficient between the followingtwo datasets provided as lists in Python:\n",
        "#list_x = [10, 20, 30, 40, 50]\n",
        "#list_y = [15, 25, 35, 45, 60]\n",
        "import numpy as np\n",
        "\n",
        "x = [10, 20, 30, 40, 50]\n",
        "y = [15, 25, 35, 45, 60]\n",
        "\n",
        "# Calculate covariance\n",
        "# The np.cov function returns a covariance matrix. We need the off-diagonal element\n",
        "# which represents the covariance between x and y.\n",
        "covariance_matrix = np.cov(x, y)\n",
        "covariance = covariance_matrix[0, 1]\n",
        "\n",
        "# Calculate correlation coefficient\n",
        "correlation_coefficient = np.corrcoef(x, y)[0, 1]\n",
        "\n",
        "print(f\"Covariance between x and y: {covariance}\")\n",
        "print(f\"Correlation coefficient between x and y: {correlation_coefficient}\")"
      ],
      "metadata": {
        "colab": {
          "base_uri": "https://localhost:8080/"
        },
        "id": "qzxwm9e9vfjv",
        "outputId": "0ea4c736-9a20-4832-c971-13b5dbeee826"
      },
      "execution_count": 2,
      "outputs": [
        {
          "output_type": "stream",
          "name": "stdout",
          "text": [
            "Covariance between x and y: 275.0\n",
            "Correlation coefficient between x and y: 0.995893206467704\n"
          ]
        }
      ]
    },
    {
      "cell_type": "code",
      "source": [
        "#Question 7: Write a Python script to draw a boxplot for the following numeric list and identify its outliers. Explain the result:\n",
        "# data = [12, 14, 14, 15, 18, 19, 19, 21, 22, 22, 23, 23, 24, 26, 29, 35]\n",
        "import matplotlib.pyplot as plt\n",
        "import numpy as np\n",
        "\n",
        "data = [12, 14, 14, 15, 18, 19, 19, 21, 22, 22, 23, 23, 24, 26, 29, 35]\n",
        "\n",
        "# Create a boxplot\n",
        "plt.figure(figsize=(8, 6))\n",
        "plt.boxplot(data)\n",
        "plt.title('Boxplot of Data')\n",
        "plt.ylabel('Value')\n",
        "plt.grid(True, linestyle='--', alpha=0.7)\n",
        "plt.show()\n",
        "\n",
        "# Calculate quartiles and IQR to identify outliers\n",
        "Q1 = np.percentile(data, 25)\n",
        "Q3 = np.percentile(data, 75)\n",
        "IQR = Q3 - Q1\n",
        "\n",
        "lower_bound = Q1 - 1.5 * IQR\n",
        "upper_bound = Q3 + 1.5 * IQR\n",
        "\n",
        "outliers = [x for x in data if x < lower_bound or x > upper_bound]\n",
        "\n",
        "print(f\"First Quartile (Q1): {Q1}\")\n",
        "print(f\"Third Quartile (Q3): {Q3}\")\n",
        "print(f\"Interquartile Range (IQR): {IQR}\")\n",
        "print(f\"Lower Bound for Outliers: {lower_bound}\")\n",
        "print(f\"Upper Bound for Outliers: {upper_bound}\")\n",
        "print(f\"Identified Outliers: {outliers}\")"
      ],
      "metadata": {
        "colab": {
          "base_uri": "https://localhost:8080/",
          "height": 649
        },
        "id": "iLPPYBwvvyuR",
        "outputId": "66d8008c-5fc1-450d-b332-65f0c38e7937"
      },
      "execution_count": 3,
      "outputs": [
        {
          "output_type": "display_data",
          "data": {
            "text/plain": [
              "<Figure size 800x600 with 1 Axes>"
            ],
            "image/png": "[encoded data removed]"
          },
          "metadata": {}
        },
        {
          "output_type": "stream",
          "name": "stdout",
          "text": [
            "First Quartile (Q1): 17.25\n",
            "Third Quartile (Q3): 23.25\n",
            "Interquartile Range (IQR): 6.0\n",
            "Lower Bound for Outliers: 8.25\n",
            "Upper Bound for Outliers: 32.25\n",
            "Identified Outliers: [35]\n"
          ]
        }
      ]
    },
    {
      "cell_type": "code",
      "source": [
        "#Question 8: You are working as a data analyst in an e-commerce company. The marketing team wants to know if there is a relationship between advertising spend and daily sales.\n",
        "# Explain how you world use covariance and correlation to explore this relationship.\n",
        "# Write Python code to compute the correlation between the two lists:\n",
        "#advertising_spend = [200, 250, 300, 400, 500]\n",
        "# daily_sales = [2200, 2450, 2750, 3200, 4000]\n",
        "\n",
        "''' Use of covariance and correlation in data analysis\n",
        "As a data analyst, you would use covariance and correlation to understand the relationship between advertising spend and daily sales in the following ways:\n",
        "\n",
        "Covariance: This statistical measure tells you the direction in which two variables, like advertising spend and daily sales, move together.\n",
        "A positive covariance : value indicates that when advertising spend increases, daily sales also tend to increase. If advertising spend decreases, daily sales also tend to decrease.\n",
        "A negative covariance : value indicates that the two variables move in opposite directions. An increase in advertising spend would be associated with a decrease in daily sales.\n",
        "A covariance value of zero or near-zero indicates that there is no consistent linear relationship between the two variables.\n",
        "\n",
        "Correlation: This is a standardized measure derived from covariance that tells you both the direction and the strength of the linear relationship between two variables.\n",
        "The correlation coefficient, also known as Pearson's r, is a unitless value that ranges from -1 to +1.\n",
        "A correlation of +1 indicates a perfect positive linear relationship, meaning sales increase proportionally with ad spend.\n",
        "A correlation of -1 indicates a perfect negative linear relationship.\n",
        "A correlation of 0 indicates no linear relationship.\n",
        "Strength of the relationship: The closer the value is to +1 or -1, the stronger the relationship is. For example, a correlation of 0.8 is a strong positive correlation, while a correlation of 0.2 is a weak one.\n",
        "'''\n",
        "import numpy as np\n",
        "\n",
        "# Data lists for advertising spend and daily sales\n",
        "advertising_spend = [200, 250, 300, 400, 500]\n",
        "daily_sales = [2200, 2450, 2750, 3200, 4000]\n",
        "\n",
        "# Compute the correlation coefficient using numpy.corrcoef()\n",
        "# The function returns a correlation matrix, and we extract the [0, 1] element\n",
        "# to get the correlation between the two lists.\n",
        "correlation_matrix = np.corrcoef(advertising_spend, daily_sales)\n",
        "correlation = correlation_matrix[0, 1]\n",
        "\n",
        "# Print the result\n",
        "print(f\"The correlation between advertising spend and daily sales is: {correlation}\")\n"
      ],
      "metadata": {
        "colab": {
          "base_uri": "https://localhost:8080/"
        },
        "id": "nPg97YnowJ01",
        "outputId": "f5cd266d-437c-4305-d931-336c468dd2d5"
      },
      "execution_count": 4,
      "outputs": [
        {
          "output_type": "stream",
          "name": "stdout",
          "text": [
            "The correlation between advertising spend and daily sales is: 0.9935824101653329\n"
          ]
        }
      ]
    }
  ]
}